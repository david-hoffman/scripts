{
 "cells": [
  {
   "cell_type": "markdown",
   "metadata": {},
   "source": [
    "# A Monte Carlo Option Pricer\n",
    "\n",
    "This notebook introduces the vectorize and CUDA Python features in NumbaPro to speedup a monte carlo option pricer.\n"
   ]
  },
  {
   "cell_type": "markdown",
   "metadata": {},
   "source": [
    "\n",
    "## A Numpy Implementation\n",
    "\n",
    "The following is a NumPy implementatation of a simple monte carlo pricer.\n",
    "It consists of two functions.\n",
    "The `mc_numpy` function is the entry point of the pricer.\n",
    "The entire simulation is divided into small time step `dt`.\n",
    "The `step_numpy` function simulates the next batch of prices for each `dt`."
   ]
  },
  {
   "cell_type": "code",
   "execution_count": 1,
   "metadata": {
    "collapsed": false
   },
   "outputs": [],
   "source": [
    "import numpy as np                         # numpy namespace\n",
    "from timeit import default_timer as timer  # for timing\n",
    "from matplotlib import pyplot              # for plotting\n",
    "import math"
   ]
  },
  {
   "cell_type": "code",
   "execution_count": 2,
   "metadata": {
    "collapsed": false
   },
   "outputs": [],
   "source": [
    "def step_numpy(dt, prices, c0, c1, noises):\n",
    "    return prices * np.exp(c0 * dt + c1 * noises)\n",
    "\n",
    "def mc_numpy(paths, dt, interest, volatility):\n",
    "    c0 = interest - 0.5 * volatility ** 2\n",
    "    c1 = volatility * np.sqrt(dt)\n",
    "\n",
    "    for j in range(1, paths.shape[1]):   # for each time step\n",
    "        prices = paths[:, j - 1]          # last prices\n",
    "        # gaussian noises for simulation\n",
    "        noises = np.random.normal(0., 1., prices.size)\n",
    "        # simulate\n",
    "        paths[:, j] = step_numpy(dt, prices, c0, c1, noises)"
   ]
  },
  {
   "cell_type": "markdown",
   "metadata": {},
   "source": [
    "### Configurations"
   ]
  },
  {
   "cell_type": "code",
   "execution_count": 3,
   "metadata": {
    "collapsed": false
   },
   "outputs": [],
   "source": [
    "# stock parameter\n",
    "\n",
    "StockPrice = 20.83\n",
    "StrikePrice = 21.50\n",
    "Volatility = 0.021\n",
    "InterestRate = 0.20\n",
    "Maturity = 5. / 12.\n",
    "\n",
    "# monte-carlo parameter \n",
    "\n",
    "NumPath = 3000000\n",
    "NumStep = 100\n",
    "\n",
    "# plotting\n",
    "MAX_PATH_IN_PLOT = 50"
   ]
  },
  {
   "cell_type": "markdown",
   "metadata": {},
   "source": [
    "### Driver\n",
    "\n",
    "The driver measures the performance of the given pricer and plots the simulation paths."
   ]
  },
  {
   "cell_type": "code",
   "execution_count": 4,
   "metadata": {
    "collapsed": false
   },
   "outputs": [],
   "source": [
    "def driver(pricer, do_plot=False):\n",
    "    paths = np.zeros((NumPath, NumStep + 1), order='F')\n",
    "    paths[:, 0] = StockPrice\n",
    "    DT = Maturity / NumStep\n",
    "\n",
    "    ts = timer()\n",
    "    pricer(paths, DT, InterestRate, Volatility)\n",
    "    te = timer()\n",
    "    elapsed = te - ts\n",
    "\n",
    "    ST = paths[:, -1]\n",
    "    PaidOff = np.maximum(paths[:, -1] - StrikePrice, 0)\n",
    "    print('Result')\n",
    "    fmt = '%20s: %s'\n",
    "    print(fmt % ('stock price', np.mean(ST)))\n",
    "    print(fmt % ('standard error', np.std(ST) / np.sqrt(NumPath)))\n",
    "    print(fmt % ('paid off', np.mean(PaidOff)))\n",
    "    optionprice = np.mean(PaidOff) * np.exp(-InterestRate * Maturity)\n",
    "    print(fmt % ('option price', optionprice))\n",
    "\n",
    "    print('Performance')\n",
    "    NumCompute = NumPath * NumStep\n",
    "    print(fmt % ('Mstep/second', '%.2f' % (NumCompute / elapsed / 1e6)))\n",
    "    print(fmt % ('time elapsed', '%.3fs' % (te - ts)))\n",
    "\n",
    "    if do_plot:\n",
    "        pathct = min(NumPath, MAX_PATH_IN_PLOT)\n",
    "        for i in range(pathct):\n",
    "            pyplot.plot(paths[i])\n",
    "        print('Plotting %d/%d paths' % (pathct, NumPath))\n",
    "        pyplot.show()\n",
    "    return elapsed"
   ]
  },
  {
   "cell_type": "markdown",
   "metadata": {},
   "source": [
    "### Result"
   ]
  },
  {
   "cell_type": "code",
   "execution_count": null,
   "metadata": {
    "collapsed": false
   },
   "outputs": [
    {
     "name": "stdout",
     "output_type": "stream",
     "text": [
      "Result\n",
      "         stock price: 22.6400636697\n",
      "      standard error: 0.000177232374652\n",
      "            paid off: 1.14006833695\n",
      "        option price: 1.04891350571\n",
      "Performance\n",
      "        Mstep/second: 5.90\n",
      "        time elapsed: 50.890s\n",
      "Plotting 50/3000000 paths"
     ]
    }
   ],
   "source": [
    "numpy_time = driver(mc_numpy, do_plot=True)"
   ]
  },
  {
   "cell_type": "markdown",
   "metadata": {},
   "source": [
    "## Basic Vectorize\n",
    "\n",
    "The vectorize decorator compiles a scalar function into a Numpy ufunc-like object for operation on arrays.\n",
    "The decorator must be provided with a list of possible signatures.\n",
    "The `step_cpuvec` takes 5 double arrays and return a double array."
   ]
  },
  {
   "cell_type": "code",
   "execution_count": 8,
   "metadata": {
    "collapsed": false
   },
   "outputs": [
    {
     "name": "stderr",
     "output_type": "stream",
     "text": [
      "Vendor:  Continuum Analytics, Inc.\n",
      "Package: numbapro\n",
      "Message: trial mode expires in 30 days\n"
     ]
    }
   ],
   "source": [
    "from numbapro import vectorize\n",
    "\n",
    "@vectorize(['f8(f8, f8, f8, f8, f8)'])\n",
    "def step_cpuvec(last, dt, c0, c1, noise):\n",
    "    return last * math.exp(c0 * dt + c1 * noise)\n",
    "\n",
    "def mc_cpuvec(paths, dt, interest, volatility):\n",
    "    c0 = interest - 0.5 * volatility ** 2\n",
    "    c1 = volatility * np.sqrt(dt)\n",
    "\n",
    "    for j in range(1, paths.shape[1]):\n",
    "        prices = paths[:, j - 1]\n",
    "        noises = np.random.normal(0., 1., prices.size)\n",
    "        paths[:, j] = step_cpuvec(prices, dt, c0, c1, noises)"
   ]
  },
  {
   "cell_type": "code",
   "execution_count": 9,
   "metadata": {
    "collapsed": false
   },
   "outputs": [
    {
     "name": "stdout",
     "output_type": "stream",
     "text": [
      "Result\n",
      "         stock price: 22.6402221194\n",
      "      standard error: 0.000177256546565\n",
      "            paid off: 1.14022748294\n",
      "        option price: 1.04905992708\n",
      "Performance\n",
      "        Mstep/second: 14.42\n",
      "        time elapsed: 20.808s\n",
      "Plotting 50/3000000 paths\n"
     ]
    }
   ],
   "source": [
    "cpuvec_time = driver(mc_cpuvec, do_plot=True)"
   ]
  },
  {
   "cell_type": "markdown",
   "metadata": {},
   "source": [
    "## Parallel Vectorize\n",
    "\n",
    "By setting the target to `parallel`, the vectorize decorator produces a multithread implementation."
   ]
  },
  {
   "cell_type": "code",
   "execution_count": 10,
   "metadata": {
    "collapsed": false
   },
   "outputs": [],
   "source": [
    "@vectorize(['f8(f8, f8, f8, f8, f8)'], target='parallel')\n",
    "def step_parallel(last, dt, c0, c1, noise):\n",
    "    return last * math.exp(c0 * dt + c1 * noise)\n",
    "\n",
    "def mc_parallel(paths, dt, interest, volatility):\n",
    "    c0 = interest - 0.5 * volatility ** 2\n",
    "    c1 = volatility * np.sqrt(dt)\n",
    "\n",
    "    for j in range(1, paths.shape[1]):\n",
    "        prices = paths[:, j - 1]\n",
    "        noises = np.random.normal(0., 1., prices.size)\n",
    "        paths[:, j] = step_parallel(prices, dt, c0, c1, noises)"
   ]
  },
  {
   "cell_type": "code",
   "execution_count": 11,
   "metadata": {
    "collapsed": false
   },
   "outputs": [
    {
     "name": "stdout",
     "output_type": "stream",
     "text": [
      "Result\n",
      "         stock price: 22.6401547068\n",
      "      standard error: 0.000177306045622\n",
      "            paid off: 1.14015939532\n",
      "        option price: 1.04899728345\n",
      "Performance\n",
      "        Mstep/second: 14.56\n",
      "        time elapsed: 20.608s\n",
      "Plotting 50/3000000 paths\n"
     ]
    }
   ],
   "source": [
    "parallel_time = driver(mc_parallel, do_plot=True)"
   ]
  },
  {
   "cell_type": "markdown",
   "metadata": {},
   "source": [
    "## CUDA Vectorize\n",
    "\n",
    "To take advantage of the CUDA GPU, user can simply set the target to `gpu`.  \n",
    "There are no different other than the target keyword argument.\n"
   ]
  },
  {
   "cell_type": "code",
   "execution_count": 12,
   "metadata": {
    "collapsed": false
   },
   "outputs": [],
   "source": [
    "@vectorize(['f8(f8, f8, f8, f8, f8)'], target='gpu')\n",
    "def step_gpuvec(last, dt, c0, c1, noise):\n",
    "    return last * math.exp(c0 * dt + c1 * noise)\n",
    "\n",
    "def mc_gpuvec(paths, dt, interest, volatility):\n",
    "    c0 = interest - 0.5 * volatility ** 2\n",
    "    c1 = volatility * np.sqrt(dt)\n",
    "\n",
    "    for j in range(1, paths.shape[1]):\n",
    "        prices = paths[:, j - 1]\n",
    "        noises = np.random.normal(0., 1., prices.size)\n",
    "        paths[:, j] = step_gpuvec(prices, dt, c0, c1, noises)"
   ]
  },
  {
   "cell_type": "code",
   "execution_count": 13,
   "metadata": {
    "collapsed": false
   },
   "outputs": [
    {
     "name": "stdout",
     "output_type": "stream",
     "text": [
      "Result\n",
      "         stock price: 22.6402891756\n",
      "      standard error: 0.000177074880539\n",
      "            paid off: 1.14029374552\n",
      "        option price: 1.0491208916\n",
      "Performance\n",
      "        Mstep/second: 12.63\n",
      "        time elapsed: 23.757s\n",
      "Plotting 50/3000000 paths\n"
     ]
    }
   ],
   "source": [
    "gpuvec_time = driver(mc_gpuvec, do_plot=True)"
   ]
  },
  {
   "cell_type": "markdown",
   "metadata": {},
   "source": [
    "In the above simple CUDA vectorize example, the speedup is not significant due to the memory transfer overhead.  Since the kernel has relatively low compute intensity, explicit management of memory transfer would give a significant speedup."
   ]
  },
  {
   "cell_type": "markdown",
   "metadata": {},
   "source": [
    "## CUDA JIT\n",
    "\n",
    "This implementation uses the CUDA JIT feature with explicit memory transfer and asynchronous kernel call.  A cuRAND random number generator is used instead of the NumPy implementation."
   ]
  },
  {
   "cell_type": "code",
   "execution_count": 14,
   "metadata": {
    "collapsed": false
   },
   "outputs": [],
   "source": [
    "from numbapro import cuda, jit\n",
    "from numbapro.cudalib import curand\n",
    "\n",
    "@jit('void(double[:], double[:], double, double, double, double[:])', target='gpu')\n",
    "def step_cuda(last, paths, dt, c0, c1, normdist):\n",
    "    i = cuda.grid(1)\n",
    "    if i >= paths.shape[0]:\n",
    "        return\n",
    "    noise = normdist[i]\n",
    "    paths[i] = last[i] * math.exp(c0 * dt + c1 * noise)\n",
    "\n",
    "def mc_cuda(paths, dt, interest, volatility):\n",
    "    n = paths.shape[0]\n",
    "\n",
    "    blksz = cuda.get_current_device().MAX_THREADS_PER_BLOCK\n",
    "    gridsz = int(math.ceil(float(n) / blksz))\n",
    "\n",
    "    # instantiate a CUDA stream for queueing async CUDA cmds\n",
    "    stream = cuda.stream()\n",
    "    # instantiate a cuRAND PRNG\n",
    "    prng = curand.PRNG(curand.PRNG.MRG32K3A, stream=stream)\n",
    "\n",
    "    # Allocate device side array\n",
    "    d_normdist = cuda.device_array(n, dtype=np.double, stream=stream)\n",
    "    \n",
    "    c0 = interest - 0.5 * volatility ** 2\n",
    "    c1 = volatility * np.sqrt(dt)\n",
    "\n",
    "    # configure the kernel\n",
    "    # similar to CUDA-C: step_cuda<<<gridsz, blksz, 0, stream>>>\n",
    "    step_cfg = step_cuda[gridsz, blksz, stream]\n",
    "    \n",
    "    # transfer the initial prices\n",
    "    d_last = cuda.to_device(paths[:, 0], stream=stream)\n",
    "    for j in range(1, paths.shape[1]):\n",
    "        # call cuRAND to populate d_normdist with gaussian noises\n",
    "        prng.normal(d_normdist, mean=0, sigma=1)\n",
    "        # setup memory for new prices\n",
    "        # device_array_like is like empty_like for GPU\n",
    "        d_paths = cuda.device_array_like(paths[:, j], stream=stream)\n",
    "        # invoke step kernel asynchronously\n",
    "        step_cfg(d_last, d_paths, dt, c0, c1, d_normdist)\n",
    "        # transfer memory back to the host\n",
    "        d_paths.copy_to_host(paths[:, j], stream=stream)\n",
    "        d_last = d_paths\n",
    "    # wait for all GPU work to complete\n",
    "    stream.synchronize()"
   ]
  },
  {
   "cell_type": "code",
   "execution_count": 15,
   "metadata": {
    "collapsed": false
   },
   "outputs": [
    {
     "name": "stdout",
     "output_type": "stream",
     "text": [
      "Result\n",
      "         stock price: 22.6397789491\n",
      "      standard error: 0.000177324589149\n",
      "            paid off: 1.13978420099\n",
      "        option price: 1.04865208801\n",
      "Performance\n",
      "        Mstep/second: 117.70\n",
      "        time elapsed: 2.549s\n",
      "Plotting 50/3000000 paths\n"
     ]
    }
   ],
   "source": [
    "cuda_time = driver(mc_cuda, do_plot=True)"
   ]
  },
  {
   "cell_type": "markdown",
   "metadata": {},
   "source": [
    "## Performance Comparision\n"
   ]
  },
  {
   "cell_type": "code",
   "execution_count": 22,
   "metadata": {
    "collapsed": false
   },
   "outputs": [],
   "source": [
    "def perf_plot(rawdata, xlabels):\n",
    "    data = [numpy_time / x for x in rawdata]\n",
    "    idx = np.arange(len(data))\n",
    "    fig = pyplot.figure()\n",
    "    width = 0.5\n",
    "    ax = fig.add_subplot(111)\n",
    "    ax.bar(idx, data, width)\n",
    "    ax.set_ylabel('normalized speedup')\n",
    "    ax.set_xticks(idx + width / 2)\n",
    "    ax.set_xticklabels(xlabels)\n",
    "    ax.set_ylim(0.9)\n",
    "    pyplot.show()\n",
    "\n",
    "perf_plot([numpy_time, cpuvec_time, parallel_time, gpuvec_time], \n",
    "          ['numpy', 'cpu-vect', 'parallel-vect', 'gpu-vect'])"
   ]
  },
  {
   "cell_type": "code",
   "execution_count": 23,
   "metadata": {
    "collapsed": false
   },
   "outputs": [],
   "source": [
    "perf_plot([numpy_time, cpuvec_time, parallel_time, gpuvec_time, cuda_time],\n",
    "          ['numpy', 'cpu-vect', 'parallel-vect', 'gpu-vect', 'cuda'])"
   ]
  },
  {
   "cell_type": "code",
   "execution_count": null,
   "metadata": {
    "collapsed": true
   },
   "outputs": [],
   "source": []
  }
 ],
 "metadata": {
  "kernelspec": {
   "display_name": "Python 3",
   "language": "python",
   "name": "python3"
  },
  "language_info": {
   "codemirror_mode": {
    "name": "ipython",
    "version": 3
   },
   "file_extension": ".py",
   "mimetype": "text/x-python",
   "name": "python",
   "nbconvert_exporter": "python",
   "pygments_lexer": "ipython3",
   "version": "3.4.3"
  }
 },
 "nbformat": 4,
 "nbformat_minor": 0
}
