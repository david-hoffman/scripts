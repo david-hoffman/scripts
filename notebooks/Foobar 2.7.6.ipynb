{
 "cells": [
  {
   "cell_type": "code",
   "execution_count": 1,
   "metadata": {
    "collapsed": true
   },
   "outputs": [],
   "source": [
    "# too general\n",
    "# def answer(t, n):\n",
    "#     paths = calc_paths(t)\n",
    "#     bins = [0]*(n+1)\n",
    "    \n",
    "#     for start in range(n):\n",
    "#         for path in paths:\n",
    "#             bins[end_point(start, path, n)] += 1\n",
    "    \n",
    "#     return bins\n",
    "\n",
    "# there are t**3 possible valid and invalid paths\n",
    "# we can start at each of the n board positions,\n",
    "# and figure out we're we ending up. We only need\n",
    "# to know all the permutations, not combinations\n",
    "import itertools\n",
    "\n",
    "def calc_paths(t):\n",
    "    '''\n",
    "    Calculate all the possible moves\n",
    "    '''\n",
    "    return tuple(itertools.product(*[[-1,0,1]]*t))\n",
    "\n",
    "def end_point(start, path, n):\n",
    "    '''\n",
    "    Calc the end point when we start at start\n",
    "    and follow along the path, if at any point\n",
    "    the path is invalid, return -1\n",
    "    '''\n",
    "    end = start\n",
    "    for p in path:\n",
    "        if end == n-1:\n",
    "            if p != 0:\n",
    "                # you cannot move left or right from the rightmost square\n",
    "                return -1\n",
    "        end += p\n",
    "        if end < 0 or end >= n:\n",
    "            return -1\n",
    "        \n",
    "    return end\n",
    "\n",
    "def answer(t, n):\n",
    "    paths = calc_paths(t)\n",
    "    bins = [0]*(n+1)\n",
    "    \n",
    "    for path in paths:\n",
    "        bins[end_point(0, path, n)] += 1\n",
    "    \n",
    "    return bins[n-1] % 123454321"
   ]
  },
  {
   "cell_type": "code",
   "execution_count": 2,
   "metadata": {
    "collapsed": false
   },
   "outputs": [
    {
     "data": {
      "text/plain": [
       "True"
      ]
     },
     "execution_count": 2,
     "metadata": {},
     "output_type": "execute_result"
    }
   ],
   "source": [
    "answer(1, 2) == 1"
   ]
  },
  {
   "cell_type": "code",
   "execution_count": 3,
   "metadata": {
    "collapsed": false
   },
   "outputs": [
    {
     "data": {
      "text/plain": [
       "True"
      ]
     },
     "execution_count": 3,
     "metadata": {},
     "output_type": "execute_result"
    }
   ],
   "source": [
    "answer(3, 2) == 3"
   ]
  },
  {
   "cell_type": "code",
   "execution_count": 5,
   "metadata": {
    "collapsed": false
   },
   "outputs": [
    {
     "ename": "NameError",
     "evalue": "name 'main' is not defined",
     "output_type": "error",
     "traceback": [
      "\u001b[0;31m---------------------------------------------------------------------------\u001b[0m",
      "\u001b[0;31mNameError\u001b[0m                                 Traceback (most recent call last)",
      "\u001b[0;32m<ipython-input-5-894219b57af2>\u001b[0m in \u001b[0;36m<module>\u001b[0;34m()\u001b[0m\n\u001b[0;32m----> 1\u001b[0;31m \u001b[0mmain\u001b[0m\u001b[0;34m.\u001b[0m\u001b[0m__version__\u001b[0m\u001b[0;34m\u001b[0m\u001b[0m\n\u001b[0m",
      "\u001b[0;31mNameError\u001b[0m: name 'main' is not defined"
     ]
    }
   ],
   "source": []
  },
  {
   "cell_type": "code",
   "execution_count": null,
   "metadata": {
    "collapsed": true
   },
   "outputs": [],
   "source": []
  }
 ],
 "metadata": {
  "kernelspec": {
   "display_name": "Python 2",
   "language": "python",
   "name": "python2"
  },
  "language_info": {
   "codemirror_mode": {
    "name": "ipython",
    "version": 2
   },
   "file_extension": ".py",
   "mimetype": "text/x-python",
   "name": "python",
   "nbconvert_exporter": "python",
   "pygments_lexer": "ipython2",
   "version": "2.7.11"
  }
 },
 "nbformat": 4,
 "nbformat_minor": 0
}
