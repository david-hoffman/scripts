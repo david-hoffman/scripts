{
 "cells": [
  {
   "cell_type": "markdown",
   "metadata": {},
   "source": [
    "# FFT Benchmarks\n",
    "## On SuperMicro"
   ]
  },
  {
   "cell_type": "code",
   "execution_count": 1,
   "metadata": {
    "collapsed": false
   },
   "outputs": [
    {
     "name": "stdout",
     "output_type": "stream",
     "text": [
      "\n",
      "  trials      2^n      time(s) MKL   time(s) No MKL\n",
      "--------------------------------------------------------\n",
      "    1000        4       0.0624s       0.0156s\n",
      "    1000        5       0.0010s       0.0020s\n",
      "    1000        6       0.0402s       0.0156s\n",
      "    1000        7       0.0010s       0.0322s\n",
      "    1000        8       0.0468s       0.0156s\n",
      "    1000        9       0.0362s       0.0156s\n",
      "     100       10       0.0000s       0.0010s\n",
      "     100       11       0.0342s       0.0156s\n",
      "     100       12       0.0010s       0.0322s\n",
      "     100       13       0.0156s       0.0156s\n",
      "     100       14       0.0060s       0.0570s\n",
      "     100       15       0.0380s       0.1368s\n",
      "     100       16       0.0558s       0.3362s\n",
      "     100       17       0.1242s       0.7824s\n",
      "     100       18       0.2768s       1.7382s\n",
      "     100       19       0.5440s       4.4714s\n",
      "      10       20       0.1268s       0.9778s\n",
      "      10       21       0.2652s       2.2172s\n",
      "      10       22       0.5166s       4.9240s\n",
      "      10       23       1.4454s      10.2750s\n",
      "      10       24       2.9648s      18.8268s\n"
     ]
    },
    {
     "name": "stderr",
     "output_type": "stream",
     "text": [
      "D:\\Box Sync\\IPython Notebooks\\mklFFTBench.py:95: RuntimeWarning: divide by zero encountered in double_scalars\n",
      "  dataMKL.append(numpy.asarray([n, gflop/avg_ms ]))\n"
     ]
    }
   ],
   "source": [
    "run mklFFTBench.py"
   ]
  },
  {
   "cell_type": "markdown",
   "metadata": {},
   "source": [
    "# On MacBook"
   ]
  },
  {
   "cell_type": "code",
   "execution_count": 1,
   "metadata": {
    "collapsed": false,
    "scrolled": true
   },
   "outputs": [
    {
     "name": "stdout",
     "output_type": "stream",
     "text": [
      "\n",
      "  trials      2^n      time(s) MKL   time(s) No MKL\n",
      "--------------------------------------------------------\n",
      "    1000        4       0.1165s       0.0351s\n",
      "    1000        5       0.0562s       0.0351s\n",
      "    1000        6       0.0581s       0.0406s\n",
      "    1000        7       0.0610s       0.0418s\n",
      "    1000        8       0.0789s       0.0516s\n",
      "    1000        9       0.0867s       0.0682s\n",
      "     100       10       0.0211s       0.0110s\n",
      "     100       11       0.0387s       0.0189s\n",
      "     100       12       0.0521s       0.0334s\n",
      "     100       13       0.0592s       0.1097s\n",
      "     100       14       0.0974s       0.2166s\n",
      "     100       15       0.2148s       0.4917s\n",
      "     100       16       0.2951s       1.0053s\n",
      "     100       17       0.7013s       2.4892s\n",
      "     100       18       1.6323s       5.7940s\n",
      "     100       19       3.2608s      12.1844s\n",
      "      10       20       0.7201s       2.3863s\n",
      "      10       21       1.3862s       5.4385s\n",
      "      10       22       2.9968s      11.6828s\n",
      "      10       23       8.2921s      29.5187s\n",
      "      10       24      58.2801s      91.7207s\n"
     ]
    }
   ],
   "source": [
    "run mklFFTBench.py"
   ]
  },
  {
   "cell_type": "markdown",
   "metadata": {},
   "source": [
    "## Dell Workstation"
   ]
  },
  {
   "cell_type": "code",
   "execution_count": 1,
   "metadata": {
    "collapsed": false,
    "scrolled": false
   },
   "outputs": [
    {
     "name": "stdout",
     "output_type": "stream",
     "text": [
      "MKL MAX THREADS: 24\n",
      "\n",
      "  trials      2^n      time(s) MKL   time(s) No MKL   time(s) pyFFTW\n",
      "------------------------------------------------------------------------------------\n",
      "    1000        4       0.0100s       0.0000s       0.0200s\n",
      "    1000        5       0.0100s       0.0100s       0.0400s\n",
      "    1000        6       0.0100s       0.0100s       0.0200s\n",
      "    1000        7       0.0100s       0.0142s       0.0200s\n"
     ]
    },
    {
     "name": "stderr",
     "output_type": "stream",
     "text": [
      "C:\\Users\\hoffmand\\Box Sync\\Python\\IPython Notebooks\\mklFFTBench.py:103: RuntimeWarning: divide by zero encountered in double_scalars\n",
      "  dataNumpy.append(numpy.asarray([n, gflop / avg_ms]))\n"
     ]
    },
    {
     "name": "stdout",
     "output_type": "stream",
     "text": [
      "    1000        8       0.0169s       0.0132s       0.0217s\n",
      "    1000        9       0.0150s       0.0200s       0.0200s\n",
      "     100       10       0.0000s       0.0100s       0.0000s\n"
     ]
    },
    {
     "name": "stderr",
     "output_type": "stream",
     "text": [
      "C:\\Users\\hoffmand\\Box Sync\\Python\\IPython Notebooks\\mklFFTBench.py:99: RuntimeWarning: divide by zero encountered in double_scalars\n",
      "  dataMKL.append(numpy.asarray([n, gflop / avg_ms]))\n",
      "C:\\Users\\hoffmand\\Box Sync\\Python\\IPython Notebooks\\mklFFTBench.py:107: RuntimeWarning: divide by zero encountered in double_scalars\n",
      "  datapyFFTW.append(numpy.asarray([n, gflop / avg_ms]))\n"
     ]
    },
    {
     "name": "stdout",
     "output_type": "stream",
     "text": [
      "     100       11       0.0100s       0.0000s       0.0000s\n",
      "     100       12       0.0201s       0.0110s       0.0000s\n",
      "     100       13       0.0300s       0.0274s       0.0100s\n",
      "     100       14       0.0500s       0.0500s       0.0200s\n",
      "     100       15       0.1000s       0.1091s       0.0290s\n",
      "     100       16       0.2786s       0.2885s       0.0600s\n",
      "     100       17       0.6018s       0.5838s       0.1100s\n",
      "     100       18       1.3058s       1.3173s       0.2259s\n",
      "     100       19       2.7471s       2.7189s       0.9186s\n",
      "      10       20       0.6490s       0.6134s       0.1900s\n",
      "      10       21       1.4816s       1.4458s       0.4243s\n",
      "      10       22       3.2045s       3.0232s       0.8876s\n",
      "      10       23       6.5611s       6.3815s       2.4723s\n",
      "      10       24      13.2894s      12.6614s       6.2324s\n"
     ]
    }
   ],
   "source": [
    "%run mklFFTBench.py"
   ]
  },
  {
   "cell_type": "code",
   "execution_count": 2,
   "metadata": {
    "collapsed": true
   },
   "outputs": [],
   "source": [
    "import numpy as np\n",
    "import pyfftw\n",
    "pyfftw.interfaces.cache.enable()"
   ]
  },
  {
   "cell_type": "code",
   "execution_count": 3,
   "metadata": {
    "collapsed": false
   },
   "outputs": [
    {
     "name": "stdout",
     "output_type": "stream",
     "text": [
      "The slowest run took 94.55 times longer than the fastest. This could mean that an intermediate result is being cached.\n",
      "1 loop, best of 3: 966 ms per loop\n",
      "The slowest run took 166.96 times longer than the fastest. This could mean that an intermediate result is being cached.\n",
      "1 loop, best of 3: 714 ms per loop\n",
      "The slowest run took 275.96 times longer than the fastest. This could mean that an intermediate result is being cached.\n",
      "1 loop, best of 3: 288 ms per loop\n",
      "The slowest run took 233.68 times longer than the fastest. This could mean that an intermediate result is being cached.\n",
      "1 loop, best of 3: 256 ms per loop\n",
      "The slowest run took 206.25 times longer than the fastest. This could mean that an intermediate result is being cached.\n",
      "1 loop, best of 3: 264 ms per loop\n"
     ]
    }
   ],
   "source": [
    "a = np.random.randn(2**24)\n",
    "for i in (1, 2, 4, 8, 16):\n",
    "    %timeit pyfftw.interfaces.numpy_fft.fft(a, threads=i)"
   ]
  },
  {
   "cell_type": "code",
   "execution_count": 4,
   "metadata": {
    "collapsed": false
   },
   "outputs": [
    {
     "name": "stdout",
     "output_type": "stream",
     "text": [
      "The slowest run took 10.04 times longer than the fastest. This could mean that an intermediate result is being cached.\n",
      "1 loop, best of 3: 917 ms per loop\n",
      "The slowest run took 18.55 times longer than the fastest. This could mean that an intermediate result is being cached.\n",
      "1 loop, best of 3: 721 ms per loop\n",
      "The slowest run took 49.90 times longer than the fastest. This could mean that an intermediate result is being cached.\n",
      "1 loop, best of 3: 241 ms per loop\n",
      "The slowest run took 66.51 times longer than the fastest. This could mean that an intermediate result is being cached.\n",
      "1 loop, best of 3: 172 ms per loop\n",
      "The slowest run took 65.05 times longer than the fastest. This could mean that an intermediate result is being cached.\n",
      "1 loop, best of 3: 180 ms per loop\n"
     ]
    }
   ],
   "source": [
    "a = np.random.randn(2**12, 2**12)\n",
    "for i in (1, 2, 4, 8, 16):\n",
    "    %timeit pyfftw.interfaces.numpy_fft.fft2(a, threads=i)"
   ]
  },
  {
   "cell_type": "code",
   "execution_count": 5,
   "metadata": {
    "collapsed": false
   },
   "outputs": [
    {
     "name": "stdout",
     "output_type": "stream",
     "text": [
      "1 loop, best of 3: 862 ms per loop\n",
      "1 loop, best of 3: 330 ms per loop\n",
      "1 loop, best of 3: 251 ms per loop\n",
      "1 loop, best of 3: 172 ms per loop\n",
      "1 loop, best of 3: 260 ms per loop\n"
     ]
    }
   ],
   "source": [
    "a = np.random.randn(2**12, 2**12)\n",
    "for i in (1, 2, 4, 8, 16):\n",
    "    %timeit pyfftw.interfaces.numpy_fft.fftn(a, threads=i)"
   ]
  },
  {
   "cell_type": "code",
   "execution_count": 6,
   "metadata": {
    "collapsed": false
   },
   "outputs": [
    {
     "name": "stdout",
     "output_type": "stream",
     "text": [
      "The slowest run took 7.61 times longer than the fastest. This could mean that an intermediate result is being cached.\n",
      "1 loop, best of 3: 879 ms per loop\n",
      "The slowest run took 13.63 times longer than the fastest. This could mean that an intermediate result is being cached.\n",
      "1 loop, best of 3: 655 ms per loop\n",
      "The slowest run took 30.18 times longer than the fastest. This could mean that an intermediate result is being cached.\n",
      "1 loop, best of 3: 237 ms per loop\n",
      "The slowest run took 34.64 times longer than the fastest. This could mean that an intermediate result is being cached.\n",
      "1 loop, best of 3: 182 ms per loop\n",
      "The slowest run took 36.85 times longer than the fastest. This could mean that an intermediate result is being cached.\n",
      "1 loop, best of 3: 178 ms per loop\n"
     ]
    }
   ],
   "source": [
    "a = np.random.randn(2**8, 2**8, 2**8)\n",
    "for i in (1, 2, 4, 8, 16):\n",
    "    %timeit pyfftw.interfaces.numpy_fft.fftn(a, threads=i)"
   ]
  },
  {
   "cell_type": "code",
   "execution_count": 9,
   "metadata": {
    "collapsed": false
   },
   "outputs": [
    {
     "name": "stdout",
     "output_type": "stream",
     "text": [
      "1 loop, best of 3: 6.97 s per loop\n",
      "The slowest run took 6.86 times longer than the fastest. This could mean that an intermediate result is being cached.\n",
      "1 loop, best of 3: 5.31 s per loop\n",
      "The slowest run took 6.64 times longer than the fastest. This could mean that an intermediate result is being cached.\n",
      "1 loop, best of 3: 4.83 s per loop\n",
      "The slowest run took 6.29 times longer than the fastest. This could mean that an intermediate result is being cached.\n",
      "1 loop, best of 3: 4.6 s per loop\n",
      "The slowest run took 5.78 times longer than the fastest. This could mean that an intermediate result is being cached.\n",
      "1 loop, best of 3: 4.75 s per loop\n"
     ]
    }
   ],
   "source": [
    "a = np.random.randn(2**9, 2**9, 2**9)\n",
    "for i in (1, 2, 4, 8, 16):\n",
    "    %timeit pyfftw.interfaces.numpy_fft.fftn(a, threads=i)"
   ]
  },
  {
   "cell_type": "code",
   "execution_count": 13,
   "metadata": {
    "collapsed": false
   },
   "outputs": [
    {
     "data": {
      "text/plain": [
       "64"
      ]
     },
     "execution_count": 13,
     "metadata": {},
     "output_type": "execute_result"
    }
   ],
   "source": [
    "2**6"
   ]
  },
  {
   "cell_type": "code",
   "execution_count": 14,
   "metadata": {
    "collapsed": false
   },
   "outputs": [
    {
     "name": "stdout",
     "output_type": "stream",
     "text": [
      "The slowest run took 14.04 times longer than the fastest. This could mean that an intermediate result is being cached.\n",
      "1 loop, best of 3: 3.41 s per loop\n",
      "The slowest run took 28.05 times longer than the fastest. This could mean that an intermediate result is being cached.\n",
      "1 loop, best of 3: 2.67 s per loop\n",
      "The slowest run took 24.82 times longer than the fastest. This could mean that an intermediate result is being cached.\n",
      "1 loop, best of 3: 2.56 s per loop\n",
      "The slowest run took 20.00 times longer than the fastest. This could mean that an intermediate result is being cached.\n",
      "1 loop, best of 3: 2.44 s per loop\n",
      "The slowest run took 21.70 times longer than the fastest. This could mean that an intermediate result is being cached.\n",
      "1 loop, best of 3: 2.35 s per loop\n"
     ]
    }
   ],
   "source": [
    "a = np.random.randn(2**6, 2**10, 2**10)\n",
    "for i in (1, 2, 4, 8, 16):\n",
    "    %timeit pyfftw.interfaces.numpy_fft.fftn(a, threads=i)"
   ]
  },
  {
   "cell_type": "code",
   "execution_count": 15,
   "metadata": {
    "collapsed": false
   },
   "outputs": [
    {
     "name": "stdout",
     "output_type": "stream",
     "text": [
      "The slowest run took 18.40 times longer than the fastest. This could mean that an intermediate result is being cached.\n",
      "1 loop, best of 3: 9.51 s per loop\n",
      "The slowest run took 33.07 times longer than the fastest. This could mean that an intermediate result is being cached.\n",
      "1 loop, best of 3: 7.07 s per loop\n",
      "The slowest run took 36.98 times longer than the fastest. This could mean that an intermediate result is being cached.\n",
      "1 loop, best of 3: 5.87 s per loop\n",
      "The slowest run took 32.51 times longer than the fastest. This could mean that an intermediate result is being cached.\n",
      "1 loop, best of 3: 5.47 s per loop\n",
      "The slowest run took 28.93 times longer than the fastest. This could mean that an intermediate result is being cached.\n",
      "1 loop, best of 3: 5.48 s per loop\n"
     ]
    }
   ],
   "source": [
    "a = np.random.randn(2**27)\n",
    "for i in (1, 2, 4, 8, 16):\n",
    "    %timeit pyfftw.interfaces.numpy_fft.fft(a, threads=i)"
   ]
  },
  {
   "cell_type": "code",
   "execution_count": null,
   "metadata": {
    "collapsed": true
   },
   "outputs": [],
   "source": []
  }
 ],
 "metadata": {
  "anaconda-cloud": {},
  "kernelspec": {
   "display_name": "Python [default]",
   "language": "python",
   "name": "python3"
  },
  "language_info": {
   "codemirror_mode": {
    "name": "ipython",
    "version": 3
   },
   "file_extension": ".py",
   "mimetype": "text/x-python",
   "name": "python",
   "nbconvert_exporter": "python",
   "pygments_lexer": "ipython3",
   "version": "3.5.1"
  }
 },
 "nbformat": 4,
 "nbformat_minor": 0
}
