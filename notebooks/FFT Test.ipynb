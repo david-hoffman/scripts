{
 "cells": [
  {
   "cell_type": "markdown",
   "metadata": {},
   "source": [
    "# FFT Test\n",
    "\n",
    "Monkey patching pyFFTW only works when the module you're monkey patching imports `fftpack` from scipy or `fft` from numpy. Other wise you won't be able to redirect the function calls."
   ]
  },
  {
   "cell_type": "code",
   "execution_count": 1,
   "metadata": {
    "collapsed": false
   },
   "outputs": [
    {
     "name": "stdout",
     "output_type": "stream",
     "text": [
      "Time with scipy.fftpack: 2.203 seconds\n",
      "Time with monkey patched scipy_fftpack: 0.993 seconds\n"
     ]
    }
   ],
   "source": [
    "import pyfftw\n",
    "import scipy.signal\n",
    "import numpy\n",
    "from timeit import Timer\n",
    "\n",
    "a = pyfftw.empty_aligned((512, 512), dtype='complex128')\n",
    "b = pyfftw.empty_aligned((512, 512), dtype='complex128')\n",
    "\n",
    "a[:] = numpy.random.randn(512, 512) + 1j*numpy.random.randn(512, 512)\n",
    "b[:] = numpy.random.randn(512, 512) + 1j*numpy.random.randn(512, 512)\n",
    "\n",
    "t = Timer(lambda: scipy.signal.fftconvolve(a, b, 'same'))\n",
    "\n",
    "print('Time with scipy.fftpack: %1.3f seconds' % t.timeit(number=10))\n",
    "\n",
    "# Monkey patch in fftn and ifftn from pyfftw.interfaces.scipy_fftpack\n",
    "scipy.signal.signaltools.fftn = pyfftw.interfaces.scipy_fftpack.fftn\n",
    "scipy.signal.signaltools.ifftn = pyfftw.interfaces.scipy_fftpack.ifftn\n",
    "scipy.signal.fftconvolve(a, b, 'same') # We cheat a bit by doing the planning first\n",
    "\n",
    "# Turn on the cache for optimum performance\n",
    "pyfftw.interfaces.cache.enable()\n",
    "\n",
    "print('Time with monkey patched scipy_fftpack: %1.3f seconds' %\n",
    "       t.timeit(number=10))"
   ]
  },
  {
   "cell_type": "code",
   "execution_count": 24,
   "metadata": {
    "collapsed": false
   },
   "outputs": [],
   "source": [
    "%reset -f"
   ]
  },
  {
   "cell_type": "code",
   "execution_count": 1,
   "metadata": {
    "collapsed": false
   },
   "outputs": [
    {
     "name": "stdout",
     "output_type": "stream",
     "text": [
      "Time with scipy.fftpack: 1.347 seconds\n",
      "Time with monkey patched scipy_fftpack: 1.618 seconds\n"
     ]
    }
   ],
   "source": [
    "import pyfftw\n",
    "import scipy.signal\n",
    "import numpy\n",
    "from timeit import Timer\n",
    "\n",
    "a = numpy.random.randn(512, 512)\n",
    "b = numpy.random.randn(512, 512)\n",
    "\n",
    "t = Timer(lambda: scipy.signal.fftconvolve(a, b, 'same'))\n",
    "\n",
    "print('Time with scipy.fftpack: %1.3f seconds' % t.timeit(number=10))\n",
    "\n",
    "# Monkey patch in fftn and ifftn from pyfftw.interfaces.scipy_fftpack\n",
    "scipy.signal.signaltools.fftn = pyfftw.interfaces.scipy_fftpack.fftn\n",
    "scipy.signal.signaltools.ifftn = pyfftw.interfaces.scipy_fftpack.ifftn\n",
    "scipy.signal.fftconvolve(a, b, 'same') # We cheat a bit by doing the planning first\n",
    "\n",
    "# Turn on the cache for optimum performance\n",
    "pyfftw.interfaces.cache.enable()\n",
    "\n",
    "print('Time with monkey patched scipy_fftpack: %1.3f seconds' %\n",
    "       t.timeit(number=10))"
   ]
  },
  {
   "cell_type": "code",
   "execution_count": 2,
   "metadata": {
    "collapsed": false
   },
   "outputs": [
    {
     "data": {
      "text/plain": [
       "<module 'numpy' from 'C:\\\\Anaconda3\\\\lib\\\\site-packages\\\\numpy\\\\__init__.py'>"
      ]
     },
     "execution_count": 2,
     "metadata": {},
     "output_type": "execute_result"
    }
   ],
   "source": [
    "scipy.signal.signaltools.np.setattr"
   ]
  },
  {
   "cell_type": "code",
   "execution_count": 1,
   "metadata": {
    "collapsed": false
   },
   "outputs": [
    {
     "name": "stdout",
     "output_type": "stream",
     "text": [
      "Time with scipy.fftpack: 0.435 seconds\n",
      "Time with monkey patched scipy_fftpack: 0.173 seconds\n"
     ]
    }
   ],
   "source": [
    "import pyfftw\n",
    "import scipy.signal\n",
    "import numpy\n",
    "from timeit import Timer\n",
    "\n",
    "a = pyfftw.empty_aligned((128, 64), dtype='complex128')\n",
    "b = pyfftw.empty_aligned((128, 64), dtype='complex128')\n",
    "\n",
    "a[:] = numpy.random.randn(128, 64) + 1j*numpy.random.randn(128, 64)\n",
    "b[:] = numpy.random.randn(128, 64) + 1j*numpy.random.randn(128, 64)\n",
    "\n",
    "t = Timer(lambda: scipy.signal.fftconvolve(a, b))\n",
    "\n",
    "print('Time with scipy.fftpack: %1.3f seconds' % t.timeit(number=100))\n",
    "\n",
    "# Monkey patch in fftn and ifftn from pyfftw.interfaces.scipy_fftpack\n",
    "scipy.signal.signaltools.fftn = pyfftw.interfaces.scipy_fftpack.fftn\n",
    "scipy.signal.signaltools.ifftn = pyfftw.interfaces.scipy_fftpack.ifftn\n",
    "scipy.signal.fftconvolve(a, b) # We cheat a bit by doing the planning first\n",
    "\n",
    "# Turn on the cache for optimum performance\n",
    "pyfftw.interfaces.cache.enable()\n",
    "\n",
    "print('Time with monkey patched scipy_fftpack: %1.3f seconds' %\n",
    "       t.timeit(number=100))"
   ]
  },
  {
   "cell_type": "code",
   "execution_count": 28,
   "metadata": {
    "collapsed": true
   },
   "outputs": [],
   "source": [
    "%reset -f"
   ]
  },
  {
   "cell_type": "code",
   "execution_count": null,
   "metadata": {
    "collapsed": true
   },
   "outputs": [],
   "source": []
  }
 ],
 "metadata": {
  "kernelspec": {
   "display_name": "Python 3",
   "language": "python",
   "name": "python3"
  },
  "language_info": {
   "codemirror_mode": {
    "name": "ipython",
    "version": 3
   },
   "file_extension": ".py",
   "mimetype": "text/x-python",
   "name": "python",
   "nbconvert_exporter": "python",
   "pygments_lexer": "ipython3",
   "version": "3.4.4"
  }
 },
 "nbformat": 4,
 "nbformat_minor": 0
}
